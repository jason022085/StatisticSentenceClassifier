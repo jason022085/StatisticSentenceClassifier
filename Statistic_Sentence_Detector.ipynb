{
 "cells": [
  {
   "cell_type": "markdown",
   "metadata": {},
   "source": [
    "# A.載入套件"
   ]
  },
  {
   "cell_type": "code",
   "execution_count": 1,
   "metadata": {},
   "outputs": [
    {
     "name": "stderr",
     "output_type": "stream",
     "text": [
      "Using TensorFlow backend.\n"
     ]
    }
   ],
   "source": [
    "import pandas as pd #python的Excel\n",
    "import numpy as np #python的工程計算機 \n",
    "from time import time #算時間的套件\n",
    "import jieba as jb#斷詞用套件\n",
    "from collections import Counter\n",
    "import pyprind #這個很神祕\n",
    "import tensorflow as tf #神經網路常用套件(難)\n",
    "import matplotlib.pyplot as plt#Python的小畫家\n",
    "import sklearn as sk #機器學習常用套件\n",
    "import keras as kr #神經網路常用套件(易)"
   ]
  },
  {
   "cell_type": "markdown",
   "metadata": {},
   "source": [
    "# B.讀取資料檔\n",
    "* 統計版文章\n",
    "https://drive.google.com/file/d/1PXiIpBJnybmon8M_FK3FvRV8uXbTLjX5/view?usp=sharing\n",
    "* 八卦版文章\n",
    "https://drive.google.com/file/d/1NAl2SImoLdSAODum4b5AA1Yx0kOgBU4i/view?usp=sharing"
   ]
  },
  {
   "cell_type": "code",
   "execution_count": 2,
   "metadata": {},
   "outputs": [
    {
     "name": "stdout",
     "output_type": "stream",
     "text": [
      "耗時(秒)= 6.659406423568726\n"
     ]
    }
   ],
   "source": [
    "t0 = time()\n",
    "Gossip = pd.read_excel(\"D:\\Anaconda3\\mycode\\MLlab\\PTT_Gossiping.xlsx\",encoding = 'utf-8')#八卦版文章\n",
    "Stat = pd.read_excel(\"D:\\Anaconda3\\mycode\\MLlab\\PTT_Statistics.xlsx\",encoding = 'utf-8')#統計版檔案\n",
    "#Stop_word = pd.read_csv(\"D:\\Anaconda3\\mycode\\MLlab\\stopwords_zh.csv\",encoding = 'big5',header = None)\n",
    "print(\"耗時(秒)=\",time()-t0)"
   ]
  },
  {
   "cell_type": "code",
   "execution_count": 3,
   "metadata": {},
   "outputs": [
    {
     "data": {
      "text/html": [
       "<div>\n",
       "<style scoped>\n",
       "    .dataframe tbody tr th:only-of-type {\n",
       "        vertical-align: middle;\n",
       "    }\n",
       "\n",
       "    .dataframe tbody tr th {\n",
       "        vertical-align: top;\n",
       "    }\n",
       "\n",
       "    .dataframe thead th {\n",
       "        text-align: right;\n",
       "    }\n",
       "</style>\n",
       "<table border=\"1\" class=\"dataframe\">\n",
       "  <thead>\n",
       "    <tr style=\"text-align: right;\">\n",
       "      <th></th>\n",
       "      <th>id</th>\n",
       "      <th>board</th>\n",
       "      <th>article</th>\n",
       "    </tr>\n",
       "  </thead>\n",
       "  <tbody>\n",
       "    <tr>\n",
       "      <th>0</th>\n",
       "      <td>1</td>\n",
       "      <td>Gossiping</td>\n",
       "      <td>\\r\\n各位晚安，現在正在看就職典禮\\r\\n\\r\\n想問，美國哪裡都看得到基督教蹤影，總統宣...</td>\n",
       "    </tr>\n",
       "    <tr>\n",
       "      <th>1</th>\n",
       "      <td>2</td>\n",
       "      <td>Gossiping</td>\n",
       "      <td>\\r\\n        (1)\\r\\n        投保薪資 42000,\\r\\n    ...</td>\n",
       "    </tr>\n",
       "    <tr>\n",
       "      <th>2</th>\n",
       "      <td>3</td>\n",
       "      <td>Gossiping</td>\n",
       "      <td>\\r\\n\\r\\n\\r\\n女兒昨天開始放寒假\\r\\n\\r\\n寒假作業有一題是緩緩飄落的楓葉像什...</td>\n",
       "    </tr>\n",
       "    <tr>\n",
       "      <th>3</th>\n",
       "      <td>4</td>\n",
       "      <td>Gossiping</td>\n",
       "      <td>\\r\\n\\r\\n妳的不安贏得妳的信任\\r\\n\\r\\n我卻得到你\\r\\n\\r\\n安慰的淘汰\\r...</td>\n",
       "    </tr>\n",
       "    <tr>\n",
       "      <th>4</th>\n",
       "      <td>5</td>\n",
       "      <td>Gossiping</td>\n",
       "      <td>\\r\\n\\r\\n身為FBI，觀禮保護總統是一件很合理的事\\r\\n不知道傳說中的銀色子彈秀哥有...</td>\n",
       "    </tr>\n",
       "  </tbody>\n",
       "</table>\n",
       "</div>"
      ],
      "text/plain": [
       "   id      board                                            article\n",
       "0   1  Gossiping  \\r\\n各位晚安，現在正在看就職典禮\\r\\n\\r\\n想問，美國哪裡都看得到基督教蹤影，總統宣...\n",
       "1   2  Gossiping  \\r\\n        (1)\\r\\n        投保薪資 42000,\\r\\n    ...\n",
       "2   3  Gossiping  \\r\\n\\r\\n\\r\\n女兒昨天開始放寒假\\r\\n\\r\\n寒假作業有一題是緩緩飄落的楓葉像什...\n",
       "3   4  Gossiping  \\r\\n\\r\\n妳的不安贏得妳的信任\\r\\n\\r\\n我卻得到你\\r\\n\\r\\n安慰的淘汰\\r...\n",
       "4   5  Gossiping  \\r\\n\\r\\n身為FBI，觀禮保護總統是一件很合理的事\\r\\n不知道傳說中的銀色子彈秀哥有..."
      ]
     },
     "execution_count": 3,
     "metadata": {},
     "output_type": "execute_result"
    }
   ],
   "source": [
    "Gossip.head(5)"
   ]
  },
  {
   "cell_type": "code",
   "execution_count": 4,
   "metadata": {},
   "outputs": [
    {
     "data": {
      "text/html": [
       "<div>\n",
       "<style scoped>\n",
       "    .dataframe tbody tr th:only-of-type {\n",
       "        vertical-align: middle;\n",
       "    }\n",
       "\n",
       "    .dataframe tbody tr th {\n",
       "        vertical-align: top;\n",
       "    }\n",
       "\n",
       "    .dataframe thead th {\n",
       "        text-align: right;\n",
       "    }\n",
       "</style>\n",
       "<table border=\"1\" class=\"dataframe\">\n",
       "  <thead>\n",
       "    <tr style=\"text-align: right;\">\n",
       "      <th></th>\n",
       "      <th>id</th>\n",
       "      <th>board</th>\n",
       "      <th>article</th>\n",
       "    </tr>\n",
       "  </thead>\n",
       "  <tbody>\n",
       "    <tr>\n",
       "      <th>0</th>\n",
       "      <td>1</td>\n",
       "      <td>Statistics</td>\n",
       "      <td>\\r\\n經過不才版主的努力\\r\\n\\r\\n終於克服萬難開始轉信\\r\\n\\r\\n若是自己覺得有...</td>\n",
       "    </tr>\n",
       "    <tr>\n",
       "      <th>1</th>\n",
       "      <td>2</td>\n",
       "      <td>Statistics</td>\n",
       "      <td>\\r\\n[S]儲存 (L)站內信件 (A)放棄 (T)改標題 (E)繼續 (R/W/D)讀寫...</td>\n",
       "    </tr>\n",
       "    <tr>\n",
       "      <th>2</th>\n",
       "      <td>3</td>\n",
       "      <td>Statistics</td>\n",
       "      <td>\\r\\n不好意思!\\r\\n\\r\\n在統計版目前已有4.5個站相互轉信(有一個站只能轉出不\\r...</td>\n",
       "    </tr>\n",
       "    <tr>\n",
       "      <th>3</th>\n",
       "      <td>4</td>\n",
       "      <td>Statistics</td>\n",
       "      <td>》[bbs.ncku.edu.tw] 來源:[pc117.stat.ncku.edu.tw...</td>\n",
       "    </tr>\n",
       "    <tr>\n",
       "      <th>4</th>\n",
       "      <td>5</td>\n",
       "      <td>Statistics</td>\n",
       "      <td>^^^^^^^^? 估計吧?\\r\\n</td>\n",
       "    </tr>\n",
       "  </tbody>\n",
       "</table>\n",
       "</div>"
      ],
      "text/plain": [
       "   id       board                                            article\n",
       "0   1  Statistics  \\r\\n經過不才版主的努力\\r\\n\\r\\n終於克服萬難開始轉信\\r\\n\\r\\n若是自己覺得有...\n",
       "1   2  Statistics  \\r\\n[S]儲存 (L)站內信件 (A)放棄 (T)改標題 (E)繼續 (R/W/D)讀寫...\n",
       "2   3  Statistics  \\r\\n不好意思!\\r\\n\\r\\n在統計版目前已有4.5個站相互轉信(有一個站只能轉出不\\r...\n",
       "3   4  Statistics   》[bbs.ncku.edu.tw] 來源:[pc117.stat.ncku.edu.tw...\n",
       "4   5  Statistics                                 ^^^^^^^^? 估計吧?\\r\\n"
      ]
     },
     "execution_count": 4,
     "metadata": {},
     "output_type": "execute_result"
    }
   ],
   "source": [
    "Stat.head(5)"
   ]
  },
  {
   "cell_type": "markdown",
   "metadata": {},
   "source": [
    "# C.資料預處理"
   ]
  },
  {
   "cell_type": "markdown",
   "metadata": {},
   "source": [
    "## C0.資料清理"
   ]
  },
  {
   "cell_type": "code",
   "execution_count": 5,
   "metadata": {},
   "outputs": [],
   "source": [
    "Gossip[\"board\"] = Gossip[\"board\"].str.replace(\"Gossiping\",\"0\")#將單字轉成0比較方便\n",
    "Stat[\"board\"] = Stat[\"board\"].str.replace(\"Statistics\",\"1\")#將單字轉成1比較方便"
   ]
  },
  {
   "cell_type": "code",
   "execution_count": 6,
   "metadata": {},
   "outputs": [
    {
     "data": {
      "text/html": [
       "<div>\n",
       "<style scoped>\n",
       "    .dataframe tbody tr th:only-of-type {\n",
       "        vertical-align: middle;\n",
       "    }\n",
       "\n",
       "    .dataframe tbody tr th {\n",
       "        vertical-align: top;\n",
       "    }\n",
       "\n",
       "    .dataframe thead th {\n",
       "        text-align: right;\n",
       "    }\n",
       "</style>\n",
       "<table border=\"1\" class=\"dataframe\">\n",
       "  <thead>\n",
       "    <tr style=\"text-align: right;\">\n",
       "      <th></th>\n",
       "      <th>id</th>\n",
       "      <th>board</th>\n",
       "      <th>article</th>\n",
       "    </tr>\n",
       "  </thead>\n",
       "  <tbody>\n",
       "    <tr>\n",
       "      <th>0</th>\n",
       "      <td>1</td>\n",
       "      <td>1</td>\n",
       "      <td>\\r\\n經過不才版主的努力\\r\\n\\r\\n終於克服萬難開始轉信\\r\\n\\r\\n若是自己覺得有...</td>\n",
       "    </tr>\n",
       "    <tr>\n",
       "      <th>1</th>\n",
       "      <td>2</td>\n",
       "      <td>1</td>\n",
       "      <td>\\r\\n[S]儲存 (L)站內信件 (A)放棄 (T)改標題 (E)繼續 (R/W/D)讀寫...</td>\n",
       "    </tr>\n",
       "    <tr>\n",
       "      <th>2</th>\n",
       "      <td>3</td>\n",
       "      <td>1</td>\n",
       "      <td>\\r\\n不好意思!\\r\\n\\r\\n在統計版目前已有4.5個站相互轉信(有一個站只能轉出不\\r...</td>\n",
       "    </tr>\n",
       "    <tr>\n",
       "      <th>3</th>\n",
       "      <td>4</td>\n",
       "      <td>1</td>\n",
       "      <td>》[bbs.ncku.edu.tw] 來源:[pc117.stat.ncku.edu.tw...</td>\n",
       "    </tr>\n",
       "    <tr>\n",
       "      <th>4</th>\n",
       "      <td>5</td>\n",
       "      <td>1</td>\n",
       "      <td>^^^^^^^^? 估計吧?\\r\\n</td>\n",
       "    </tr>\n",
       "  </tbody>\n",
       "</table>\n",
       "</div>"
      ],
      "text/plain": [
       "   id board                                            article\n",
       "0   1     1  \\r\\n經過不才版主的努力\\r\\n\\r\\n終於克服萬難開始轉信\\r\\n\\r\\n若是自己覺得有...\n",
       "1   2     1  \\r\\n[S]儲存 (L)站內信件 (A)放棄 (T)改標題 (E)繼續 (R/W/D)讀寫...\n",
       "2   3     1  \\r\\n不好意思!\\r\\n\\r\\n在統計版目前已有4.5個站相互轉信(有一個站只能轉出不\\r...\n",
       "3   4     1   》[bbs.ncku.edu.tw] 來源:[pc117.stat.ncku.edu.tw...\n",
       "4   5     1                                 ^^^^^^^^? 估計吧?\\r\\n"
      ]
     },
     "execution_count": 6,
     "metadata": {},
     "output_type": "execute_result"
    }
   ],
   "source": [
    "Stat.head(5)"
   ]
  },
  {
   "cell_type": "code",
   "execution_count": 7,
   "metadata": {},
   "outputs": [],
   "source": [
    "Combine_GS = Gossip.append(Stat)#將兩dataframe合併\n",
    "Combine_GS_without_id = Combine_GS[[\"board\",\"article\"]]#丟掉id\n",
    "Combine_GS_without_id[\"art_length\"] = Combine_GS_without_id[\"article\"].str.len()#新增一欄為\"文章長度\"\n",
    "df = Combine_GS_without_id[Combine_GS_without_id[\"art_length\"]>=20]#丟掉長度不到20個字元的\n",
    "df = df[[\"article\",\"board\"]]#交換第一行和第二行"
   ]
  },
  {
   "cell_type": "code",
   "execution_count": 8,
   "metadata": {},
   "outputs": [
    {
     "data": {
      "text/html": [
       "<div>\n",
       "<style scoped>\n",
       "    .dataframe tbody tr th:only-of-type {\n",
       "        vertical-align: middle;\n",
       "    }\n",
       "\n",
       "    .dataframe tbody tr th {\n",
       "        vertical-align: top;\n",
       "    }\n",
       "\n",
       "    .dataframe thead th {\n",
       "        text-align: right;\n",
       "    }\n",
       "</style>\n",
       "<table border=\"1\" class=\"dataframe\">\n",
       "  <thead>\n",
       "    <tr style=\"text-align: right;\">\n",
       "      <th></th>\n",
       "      <th>article</th>\n",
       "      <th>board</th>\n",
       "    </tr>\n",
       "  </thead>\n",
       "  <tbody>\n",
       "    <tr>\n",
       "      <th>0</th>\n",
       "      <td>\\r\\n各位晚安，現在正在看就職典禮\\r\\n\\r\\n想問，美國哪裡都看得到基督教蹤影，總統宣...</td>\n",
       "      <td>0</td>\n",
       "    </tr>\n",
       "    <tr>\n",
       "      <th>1</th>\n",
       "      <td>\\r\\n        (1)\\r\\n        投保薪資 42000,\\r\\n    ...</td>\n",
       "      <td>0</td>\n",
       "    </tr>\n",
       "    <tr>\n",
       "      <th>2</th>\n",
       "      <td>\\r\\n\\r\\n\\r\\n女兒昨天開始放寒假\\r\\n\\r\\n寒假作業有一題是緩緩飄落的楓葉像什...</td>\n",
       "      <td>0</td>\n",
       "    </tr>\n",
       "    <tr>\n",
       "      <th>3</th>\n",
       "      <td>\\r\\n\\r\\n妳的不安贏得妳的信任\\r\\n\\r\\n我卻得到你\\r\\n\\r\\n安慰的淘汰\\r...</td>\n",
       "      <td>0</td>\n",
       "    </tr>\n",
       "    <tr>\n",
       "      <th>4</th>\n",
       "      <td>\\r\\n\\r\\n身為FBI，觀禮保護總統是一件很合理的事\\r\\n不知道傳說中的銀色子彈秀哥有...</td>\n",
       "      <td>0</td>\n",
       "    </tr>\n",
       "  </tbody>\n",
       "</table>\n",
       "</div>"
      ],
      "text/plain": [
       "                                             article board\n",
       "0  \\r\\n各位晚安，現在正在看就職典禮\\r\\n\\r\\n想問，美國哪裡都看得到基督教蹤影，總統宣...     0\n",
       "1  \\r\\n        (1)\\r\\n        投保薪資 42000,\\r\\n    ...     0\n",
       "2  \\r\\n\\r\\n\\r\\n女兒昨天開始放寒假\\r\\n\\r\\n寒假作業有一題是緩緩飄落的楓葉像什...     0\n",
       "3  \\r\\n\\r\\n妳的不安贏得妳的信任\\r\\n\\r\\n我卻得到你\\r\\n\\r\\n安慰的淘汰\\r...     0\n",
       "4  \\r\\n\\r\\n身為FBI，觀禮保護總統是一件很合理的事\\r\\n不知道傳說中的銀色子彈秀哥有...     0"
      ]
     },
     "execution_count": 8,
     "metadata": {},
     "output_type": "execute_result"
    }
   ],
   "source": [
    "df.head(5)"
   ]
  },
  {
   "cell_type": "markdown",
   "metadata": {},
   "source": [
    "## C1.jeiba斷詞"
   ]
  },
  {
   "cell_type": "code",
   "execution_count": 9,
   "metadata": {},
   "outputs": [],
   "source": [
    "#讀取統計詞庫\n",
    "#國家教育研究院的雙語詞彙學術名詞暨辭書資訊網\n",
    "#http://terms.naer.edu.tw/download/466/\n",
    "Stat_vocab = pd.read_excel(\"D:\\Anaconda3\\mycode\\MLlab\\stat_vocab.xlsx\",encoding = 'utf-8')\n",
    "vocab_eng = Stat_vocab[\"英文名稱\"]\n",
    "vocab_ch = Stat_vocab[\"中文名稱\"]\n",
    "stat_dict = np.append(vocab_ch,vocab_eng)"
   ]
  },
  {
   "cell_type": "code",
   "execution_count": 10,
   "metadata": {},
   "outputs": [
    {
     "name": "stderr",
     "output_type": "stream",
     "text": [
      "Building prefix dict from D:\\Anaconda3\\mycode\\MLlab\\dict.txt.big.txt ...\n",
      "Loading model from cache C:\\Users\\USER\\AppData\\Local\\Temp\\jieba.u17d3968e58fd50aee6321c9b3b704c20.cache\n",
      "Loading model cost 1.210 seconds.\n",
      "Prefix dict has been built succesfully.\n"
     ]
    },
    {
     "name": "stdout",
     "output_type": "stream",
     "text": [
      "耗時(秒)= 65.7558262348175\n"
     ]
    }
   ],
   "source": [
    "t0 = time()\n",
    "#所有句子斷詞後再合併存入articles\n",
    "#words = jb.cut(text)\n",
    "jb.set_dictionary(\"D:\\Anaconda3\\mycode\\MLlab\\dict.txt.big.txt\")#使用繁體+簡體中文詞庫\n",
    "jb.load_userdict(stat_dict) #加入國教院的統計詞庫\n",
    "\n",
    "articles = []\n",
    "for text in df[\"article\"]:\n",
    "    articles.append(jb.cut(text,cut_all=False))#直接返回list\n",
    "    \n",
    "new_articles = []\n",
    "for article in articles:\n",
    "    article = [x for x in article if (x != '' and x!= ' 'and type(x)!='str')]#這裡要排除null字元、空格和非字串的東西\n",
    "    article = np.array(article)\n",
    "    new_articles.append(article)\n",
    "df[\"new_article\"] = np.array(new_articles)\n",
    "print(\"耗時(秒)=\",time()-t0)"
   ]
  },
  {
   "cell_type": "code",
   "execution_count": 11,
   "metadata": {},
   "outputs": [
    {
     "data": {
      "text/html": [
       "<div>\n",
       "<style scoped>\n",
       "    .dataframe tbody tr th:only-of-type {\n",
       "        vertical-align: middle;\n",
       "    }\n",
       "\n",
       "    .dataframe tbody tr th {\n",
       "        vertical-align: top;\n",
       "    }\n",
       "\n",
       "    .dataframe thead th {\n",
       "        text-align: right;\n",
       "    }\n",
       "</style>\n",
       "<table border=\"1\" class=\"dataframe\">\n",
       "  <thead>\n",
       "    <tr style=\"text-align: right;\">\n",
       "      <th></th>\n",
       "      <th>article</th>\n",
       "      <th>board</th>\n",
       "      <th>new_article</th>\n",
       "    </tr>\n",
       "  </thead>\n",
       "  <tbody>\n",
       "    <tr>\n",
       "      <th>0</th>\n",
       "      <td>\\r\\n各位晚安，現在正在看就職典禮\\r\\n\\r\\n想問，美國哪裡都看得到基督教蹤影，總統宣...</td>\n",
       "      <td>0</td>\n",
       "      <td>[\\r\\n, 各位, 晚安, ，, 現在, 正在, 看, 就職典禮, \\r\\n, \\r\\n,...</td>\n",
       "    </tr>\n",
       "    <tr>\n",
       "      <th>1</th>\n",
       "      <td>\\r\\n        (1)\\r\\n        投保薪資 42000,\\r\\n    ...</td>\n",
       "      <td>0</td>\n",
       "      <td>[\\r\\n, (, 1, ), \\r\\n, 投保, 薪資, 42000, ,, \\r\\n, ...</td>\n",
       "    </tr>\n",
       "    <tr>\n",
       "      <th>2</th>\n",
       "      <td>\\r\\n\\r\\n\\r\\n女兒昨天開始放寒假\\r\\n\\r\\n寒假作業有一題是緩緩飄落的楓葉像什...</td>\n",
       "      <td>0</td>\n",
       "      <td>[\\r\\n, \\r\\n, \\r\\n, 女兒, 昨天, 開始, 放寒假, \\r\\n, \\r\\n...</td>\n",
       "    </tr>\n",
       "    <tr>\n",
       "      <th>3</th>\n",
       "      <td>\\r\\n\\r\\n妳的不安贏得妳的信任\\r\\n\\r\\n我卻得到你\\r\\n\\r\\n安慰的淘汰\\r...</td>\n",
       "      <td>0</td>\n",
       "      <td>[\\r\\n, \\r\\n, 妳, 的, 不安, 贏得, 妳, 的, 信任, \\r\\n, \\r\\...</td>\n",
       "    </tr>\n",
       "    <tr>\n",
       "      <th>4</th>\n",
       "      <td>\\r\\n\\r\\n身為FBI，觀禮保護總統是一件很合理的事\\r\\n不知道傳說中的銀色子彈秀哥有...</td>\n",
       "      <td>0</td>\n",
       "      <td>[\\r\\n, \\r\\n, 身為, FBI, ，, 觀禮, 保護, 總統, 是, 一件, 很,...</td>\n",
       "    </tr>\n",
       "  </tbody>\n",
       "</table>\n",
       "</div>"
      ],
      "text/plain": [
       "                                             article board  \\\n",
       "0  \\r\\n各位晚安，現在正在看就職典禮\\r\\n\\r\\n想問，美國哪裡都看得到基督教蹤影，總統宣...     0   \n",
       "1  \\r\\n        (1)\\r\\n        投保薪資 42000,\\r\\n    ...     0   \n",
       "2  \\r\\n\\r\\n\\r\\n女兒昨天開始放寒假\\r\\n\\r\\n寒假作業有一題是緩緩飄落的楓葉像什...     0   \n",
       "3  \\r\\n\\r\\n妳的不安贏得妳的信任\\r\\n\\r\\n我卻得到你\\r\\n\\r\\n安慰的淘汰\\r...     0   \n",
       "4  \\r\\n\\r\\n身為FBI，觀禮保護總統是一件很合理的事\\r\\n不知道傳說中的銀色子彈秀哥有...     0   \n",
       "\n",
       "                                         new_article  \n",
       "0  [\\r\\n, 各位, 晚安, ，, 現在, 正在, 看, 就職典禮, \\r\\n, \\r\\n,...  \n",
       "1  [\\r\\n, (, 1, ), \\r\\n, 投保, 薪資, 42000, ,, \\r\\n, ...  \n",
       "2  [\\r\\n, \\r\\n, \\r\\n, 女兒, 昨天, 開始, 放寒假, \\r\\n, \\r\\n...  \n",
       "3  [\\r\\n, \\r\\n, 妳, 的, 不安, 贏得, 妳, 的, 信任, \\r\\n, \\r\\...  \n",
       "4  [\\r\\n, \\r\\n, 身為, FBI, ，, 觀禮, 保護, 總統, 是, 一件, 很,...  "
      ]
     },
     "execution_count": 11,
     "metadata": {},
     "output_type": "execute_result"
    }
   ],
   "source": [
    "df.head(5)"
   ]
  },
  {
   "cell_type": "markdown",
   "metadata": {},
   "source": [
    "## C2.創造數字序列"
   ]
  },
  {
   "cell_type": "code",
   "execution_count": 12,
   "metadata": {},
   "outputs": [],
   "source": [
    "counts = Counter()\n",
    "for new_article in new_articles:\n",
    "    for word in new_article :\n",
    "        counts[word]+=1\n",
    "#這裡的counts是dictionary，紀錄了使用的字詞和次數"
   ]
  },
  {
   "cell_type": "code",
   "execution_count": 13,
   "metadata": {},
   "outputs": [
    {
     "name": "stdout",
     "output_type": "stream",
     "text": [
      "最常用的五個字： ['\\r\\n', '，', '-', '的', '是']\n",
      "「是」轉換後變成: 5\n",
      "「我」轉換後變成: 7\n",
      "「在」轉換後變成: 10\n"
     ]
    }
   ],
   "source": [
    "#把上面的counts排序，由多到少，然後將每個字詞給一個數字去對應\n",
    "word_counts = sorted(counts, key=counts.get, reverse=True)\n",
    "print(\"最常用的五個字：\",word_counts[:5])\n",
    "#將所有字對應到一個數字\n",
    "word_to_int = {word: ii for ii, word in enumerate(word_counts, 1)}\n",
    "print(\"「是」轉換後變成:\",word_to_int[\"是\"])\n",
    "print(\"「我」轉換後變成:\",word_to_int[\"我\"])\n",
    "print(\"「在」轉換後變成:\",word_to_int[\"在\"])\n"
   ]
  },
  {
   "cell_type": "code",
   "execution_count": 14,
   "metadata": {},
   "outputs": [
    {
     "name": "stderr",
     "output_type": "stream",
     "text": [
      "Map reviews to ints\n",
      "0% [##############################] 100% | ETA: 00:00:00\n",
      "Total time elapsed: 00:00:04\n"
     ]
    }
   ],
   "source": [
    "#創造一個只由數字組成的文章\n",
    "#後續的X_train由此而來\n",
    "mapped_article = []\n",
    "pbar = pyprind.ProgBar(len(df['article']),title='Map reviews to ints')\n",
    "for article in df['new_article']:\n",
    "    mapped_article.append([word_to_int[word] for word in article])\n",
    "    pbar.update()\n",
    "#順便創一個可以將數字返回文字的字典，之後檢查可以用到\n",
    "int_to_word = dict(zip(word_to_int.values(), word_to_int.keys()) ) "
   ]
  },
  {
   "cell_type": "code",
   "execution_count": 15,
   "metadata": {},
   "outputs": [
    {
     "name": "stdout",
     "output_type": "stream",
     "text": [
      "第一句話轉換後: [1, 150, 2875, 2, 100, 1030, 81, 5589, 1, 1, 1272, 2, 140, 578, 18, 81, 437, 5515, 40846, 2, 287, 5671, 118, 488, 1, 1, 37867, 8670, 5671, 2, 100, 224, 5, 11281, 87, 14283, 841, 4, 48767, 1, 1, 89678, 3806, 6, 1, 1, 1, 62, 96, 2, 78, 140, 287, 24, 2301, 5515, 126, 14881, 287, 40, 16, 1, 1, 3, 3, 1]\n"
     ]
    }
   ],
   "source": [
    "print(\"第一句話轉換後:\",mapped_article[0])"
   ]
  },
  {
   "cell_type": "code",
   "execution_count": 16,
   "metadata": {},
   "outputs": [
    {
     "name": "stdout",
     "output_type": "stream",
     "text": [
      "第一句話轉換前: 0    [\\r\\n, 各位, 晚安, ，, 現在, 正在, 看, 就職典禮, \\r\\n, \\r\\n,...\n",
      "Name: new_article, dtype: object\n"
     ]
    }
   ],
   "source": [
    "print(\"第一句話轉換前:\",df[\"new_article\"][:1])"
   ]
  },
  {
   "cell_type": "code",
   "execution_count": 17,
   "metadata": {},
   "outputs": [],
   "source": [
    "#將每個文章限制最大為300個字，不足的會在前面補0\n",
    "#取300是很任性的，因為我個人相信300個字就非常足以判斷此文章的內容了。\n",
    "#補0的原因是：送到神經網路後不會影響輸出值。\n",
    "from keras.preprocessing import sequence\n",
    "max_length = 300\n",
    "mapped_article_300 = sequence.pad_sequences(mapped_article, maxlen=max_length)"
   ]
  },
  {
   "cell_type": "code",
   "execution_count": 18,
   "metadata": {},
   "outputs": [
    {
     "name": "stdout",
     "output_type": "stream",
     "text": [
      "[[  0   0   0 ...   3   3   1]\n",
      " [  0   0   0 ...   3   3   1]\n",
      " [  0   0   0 ...   3   3   1]\n",
      " ...\n",
      " [  0   0   0 ...   3   3   1]\n",
      " [  0   0   0 ...   3   3   1]\n",
      " [113 359  12 ...   3   3   1]]\n"
     ]
    }
   ],
   "source": [
    "print(mapped_article_300)"
   ]
  },
  {
   "cell_type": "markdown",
   "metadata": {},
   "source": [
    "# D.分割訓練資料和測試資料"
   ]
  },
  {
   "cell_type": "code",
   "execution_count": 19,
   "metadata": {},
   "outputs": [],
   "source": [
    "#設定依變項和自變項\n",
    "from sklearn.model_selection import train_test_split\n",
    "from keras.utils import np_utils\n",
    "from keras.preprocessing import sequence\n",
    "\n",
    "X = mapped_article_300\n",
    "y = df[\"board\"]\n",
    "\n",
    "X_train , X_test ,y_train, y_test = train_test_split(X,y,test_size=0.1,random_state=1,stratify=y)#train:test=9:1\n",
    "\n",
    "X_train =X_train.reshape(len(X_train),300,1)\n",
    "X_test =X_test.reshape(len(X_test),300,1)\n",
    "\n",
    "y_train = np_utils.to_categorical(y_train,2)#one-hot encoding\n",
    "y_test = np_utils.to_categorical(y_test,2)"
   ]
  },
  {
   "cell_type": "code",
   "execution_count": 20,
   "metadata": {},
   "outputs": [
    {
     "data": {
      "text/plain": [
       "(300, 1)"
      ]
     },
     "execution_count": 20,
     "metadata": {},
     "output_type": "execute_result"
    }
   ],
   "source": [
    "#檢查資料格式\n",
    "X_train[9487].shape"
   ]
  },
  {
   "cell_type": "code",
   "execution_count": 21,
   "metadata": {},
   "outputs": [
    {
     "data": {
      "text/plain": [
       "array([1., 0.], dtype=float32)"
      ]
     },
     "execution_count": 21,
     "metadata": {},
     "output_type": "execute_result"
    }
   ],
   "source": [
    "y_train[9487]"
   ]
  },
  {
   "cell_type": "markdown",
   "metadata": {},
   "source": [
    "# E.建立模型"
   ]
  },
  {
   "cell_type": "code",
   "execution_count": 22,
   "metadata": {},
   "outputs": [
    {
     "name": "stdout",
     "output_type": "stream",
     "text": [
      "WARNING:tensorflow:From D:\\Anaconda3\\lib\\site-packages\\tensorflow\\python\\framework\\op_def_library.py:263: colocate_with (from tensorflow.python.framework.ops) is deprecated and will be removed in a future version.\n",
      "Instructions for updating:\n",
      "Colocations handled automatically by placer.\n",
      "_________________________________________________________________\n",
      "Layer (type)                 Output Shape              Param #   \n",
      "=================================================================\n",
      "lstm_1 (LSTM)                (None, 100)               40800     \n",
      "_________________________________________________________________\n",
      "dense_1 (Dense)              (None, 2)                 202       \n",
      "=================================================================\n",
      "Total params: 41,002\n",
      "Trainable params: 41,002\n",
      "Non-trainable params: 0\n",
      "_________________________________________________________________\n"
     ]
    }
   ],
   "source": [
    "#建立LSTM模型所需的語法\n",
    "from keras.models import Sequential\n",
    "from keras.layers import LSTM,Activation,Dense,Embedding,Flatten #flatten是要將矩陣拉平成向量\n",
    "from keras.layers import BatchNormalization,Dropout\n",
    "from keras.optimizers import SGD,Adam,RMSprop #RMS適合RNN\n",
    "model = Sequential()\n",
    "model.add(LSTM(\n",
    "    # 如果後端使用tensorflow，batch_input_shape 的 batch_size 需設為 None.\n",
    "    # 否則執行 model.evaluate() 會有錯誤產生.\n",
    "    batch_input_shape=(None,300,1), \n",
    "    units= 100\n",
    "    )) \n",
    "model.add(Dense(2,activation=\"sigmoid\"))\n",
    "model.compile(loss='categorical_crossentropy', optimizer=Adam(lr = 0.001),metrics =['accuracy'] )\n",
    "model.summary()"
   ]
  },
  {
   "cell_type": "code",
   "execution_count": 24,
   "metadata": {},
   "outputs": [
    {
     "name": "stdout",
     "output_type": "stream",
     "text": [
      "WARNING:tensorflow:From D:\\Anaconda3\\lib\\site-packages\\tensorflow\\python\\ops\\math_ops.py:3066: to_int32 (from tensorflow.python.ops.math_ops) is deprecated and will be removed in a future version.\n",
      "Instructions for updating:\n",
      "Use tf.cast instead.\n",
      "Train on 72333 samples, validate on 8038 samples\n",
      "Epoch 1/1\n",
      "72333/72333 [==============================] - 280s 4ms/step - loss: 0.4003 - acc: 0.8305 - val_loss: 0.5174 - val_acc: 0.7655\n",
      "\n",
      "Epoch 00001: val_acc improved from -inf to 0.76549, saving model to D:\\Anaconda3\\mycode\\MLlab\\model_check.h5\n",
      "8038/8038 [==============================] - 42s 5ms/step\n",
      "(err,acc) =  (0.5174353434452817, 0.7654889276087595)\n"
     ]
    }
   ],
   "source": [
    "#訓練模型(只是示範過程)\n",
    "from keras.callbacks import EarlyStopping,ModelCheckpoint,ReduceLROnPlateau\n",
    "#設定回調函數\n",
    "reduce_lr = ReduceLROnPlateau(monitor='val_loss', factor=0.5, patience=10, verbose=1, mode='auto', min_delta=0.0001, cooldown=0, min_lr=0)\n",
    "model_early = EarlyStopping(monitor='val_acc', min_delta=0, patience=20, verbose=1, mode='max', restore_best_weights=True)\n",
    "model_check = ModelCheckpoint(\"D:\\Anaconda3\\mycode\\MLlab\\model_check.h5\", monitor='val_acc', \n",
    "                              verbose=1, save_best_only=True, save_weights_only=False, \n",
    "                              mode='auto', period=1)\n",
    "#將訓練過程存在hisrtory裡面\n",
    "history = model.fit(X_train,y_train,batch_size=128,epochs=1,validation_data=(X_test,y_test),callbacks = [model_check,reduce_lr,model_early])\n",
    "#history = model.fit(X_train,y_train,batch_size=100,epochs=100,validation_data=(X_test,y_test))\n",
    "(err,acc) = model.evaluate(X_test,y_test)\n",
    "print(\"(err,acc) = \",(err,acc))"
   ]
  },
  {
   "cell_type": "markdown",
   "metadata": {},
   "source": [
    "# G.訓練結果呈現"
   ]
  },
  {
   "cell_type": "markdown",
   "metadata": {},
   "source": [
    "## G1.讀取已訓練完成的模型以及一些雜七雜八的小事"
   ]
  },
  {
   "cell_type": "code",
   "execution_count": 26,
   "metadata": {},
   "outputs": [
    {
     "name": "stdout",
     "output_type": "stream",
     "text": [
      "_________________________________________________________________\n",
      "Layer (type)                 Output Shape              Param #   \n",
      "=================================================================\n",
      "lstm_5 (LSTM)                (None, 100)               40800     \n",
      "_________________________________________________________________\n",
      "dense_26 (Dense)             (None, 2)                 202       \n",
      "=================================================================\n",
      "Total params: 41,002\n",
      "Trainable params: 41,002\n",
      "Non-trainable params: 0\n",
      "_________________________________________________________________\n",
      "8038/8038 [==============================] - 44s 5ms/step\n",
      "正確率 =  0.9127892510426463\n"
     ]
    }
   ],
   "source": [
    "#讀取已經訓練好的模型 XD\n",
    "model = kr.models.load_model('D:\\Anaconda3\\mycode\\MLlab\\model_rnn91.h5')\n",
    "model.summary()\n",
    "(err,acc) = model.evaluate(X_test,y_test)\n",
    "y_pred = model.predict_classes(X_test)\n",
    "print(\"正確率 = \",acc)"
   ]
  },
  {
   "cell_type": "code",
   "execution_count": 28,
   "metadata": {},
   "outputs": [
    {
     "data": {
      "text/plain": [
       "<matplotlib.image.AxesImage at 0x252b82e7b38>"
      ]
     },
     "execution_count": 28,
     "metadata": {},
     "output_type": "execute_result"
    },
    {
     "data": {
      "image/png": "[encoded data removed]",
      "text/plain": [
       "<Figure size 432x288 with 1 Axes>"
      ]
     },
     "metadata": {
      "needs_background": "light"
     },
     "output_type": "display_data"
    }
   ],
   "source": [
    "#畫個簡圖\n",
    "model_img = plt.imread(\"model.png\")\n",
    "plt.imshow(model_img)"
   ]
  },
  {
   "cell_type": "code",
   "execution_count": 29,
   "metadata": {},
   "outputs": [
    {
     "name": "stdout",
     "output_type": "stream",
     "text": [
      "[0 0 0 ... 0 1 0]\n"
     ]
    }
   ],
   "source": [
    "#將1-hot encoding的類別資料轉回原本的類別\n",
    "#第一種方法\n",
    "def re1hot(c):\n",
    "    length = len(c)\n",
    "    for i in range(length):\n",
    "        if c[i]!=0:\n",
    "            c = np.int(i)\n",
    "            if c == 0:\n",
    "                return(\"Gossiping\")\n",
    "            else:\n",
    "                return(\"Statistics\")\n",
    "#第二種方法\n",
    "index = np.argwhere(y_test == 1 )\n",
    "#print(index)\n",
    "print(index[:,1])\n",
    "y_test_raw = index[:,1]"
   ]
  },
  {
   "cell_type": "code",
   "execution_count": 30,
   "metadata": {},
   "outputs": [
    {
     "name": "stderr",
     "output_type": "stream",
     "text": [
      "Map ints to reviews\n",
      "0% [##############################] 100% | ETA: 00:00:00\n",
      "Total time elapsed: 00:00:01\n"
     ]
    }
   ],
   "source": [
    "#將測試集的數字序列轉回文字\n",
    "mapped_int = []\n",
    "pbar2 = pyprind.ProgBar(8038,\n",
    "                       title='Map ints to reviews')\n",
    "X_test =X_test.reshape(len(X_test),300)\n",
    "X_test_list = list(X_test)\n",
    "for article in X_test_list:\n",
    "    mapped_int.append([int_to_word[word] for word in article if word != 0])\n",
    "    pbar2.update()"
   ]
  },
  {
   "cell_type": "code",
   "execution_count": 31,
   "metadata": {},
   "outputs": [
    {
     "name": "stdout",
     "output_type": "stream",
     "text": [
      "['\\r\\n', '小弟', '身為', '城市', '觀察家', '遊民', '自居', '\\r\\n', '\\r\\n', '發現', '市容', '主要', '的', '問題', '不是', '鐵窗', '\\r\\n', '\\r\\n', '而是', '陽台', '或是', '冷氣機', '\\r\\n', '\\r\\n', '早期', '的', '房子', '一律', '規劃', '有陽台', '\\r\\n', '\\r\\n', '但', '事實', '實用', '度', '偏低', '而且', '有陽台', '感覺', '比較', '好', '入侵', '\\r\\n', '\\r\\n', '較', '沒有', '安全感', '\\r\\n', '\\r\\n', '導致', '每戶', '都', '想法', '不同', '有人', '裝', '鐵窗', '有人', '外', '推', '\\r\\n', '\\r\\n', '反而', '原本', '沒有', '裝', '鐵窗', '的', '人', '反而', '格格不入', '\\r\\n', '\\r\\n', '後來', '看', '一些', '房子', '拉皮', ',', '\\r\\n', '\\r\\n', '就是', '一律', '把陽台', '拿掉', ',', '統一', '裝', '上', '窗戶', '\\r\\n', '\\r\\n', '然後', '用個', '鐵板', '啥', '的', '一起', '蓋住', '冷氣機', '\\r\\n', '\\r\\n', '早期', '設置', '的', '冷', '氣孔', ',', '也', '沒', '設想', '到', '分離式', '的', '問題', '\\r\\n', '\\r\\n', '最後', '拉完', '皮', '也', '就', '普普通通', '，', '沒', '特別', '好看', '，', '但', '至少', '統一', '\\r\\n', '\\r\\n', '有沒有', '古代人', '堅持', '要', '做陽台', '的', '的', '八卦', '\\r\\n', '\\r\\n', '謝謝', '\\r\\n', '\\r\\n']\n"
     ]
    }
   ],
   "source": [
    "print(mapped_int[6666])"
   ]
  },
  {
   "cell_type": "markdown",
   "metadata": {},
   "source": [
    "## G2.混淆矩陣"
   ]
  },
  {
   "cell_type": "code",
   "execution_count": 32,
   "metadata": {},
   "outputs": [],
   "source": [
    "def plot_confusion_matrix(confusion_matrix, classes,\n",
    "                          normalize=False,\n",
    "                          title=None,\n",
    "                          cmap=plt.cm.Blues):\n",
    "    \"\"\"\n",
    "    This function prints and plots the confusion matrix.\n",
    "    Normalization can be applied by setting `normalize=True`.\n",
    "    \"\"\"\n",
    "    if not title:\n",
    "        if normalize:\n",
    "            title = 'Normalized confusion matrix'\n",
    "        else:\n",
    "            title = 'Confusion matrix, without normalization'\n",
    "\n",
    "    # Compute confusion matrix\n",
    "    cm = confusion_matrix\n",
    "    if normalize:\n",
    "        cm = cm.astype('float') / cm.sum(axis=1)[:, np.newaxis]\n",
    "        print(\"Normalized confusion matrix\")\n",
    "    else:\n",
    "        print('Confusion matrix, without normalization')\n",
    "\n",
    "    fig, ax = plt.subplots(figsize=(20, 10))\n",
    "    im = ax.imshow(cm, interpolation='nearest', cmap=cmap)\n",
    "    ax.figure.colorbar(im, ax=ax)\n",
    "    # We want to show all ticks...\n",
    "    ax.set(xticks=np.arange(cm.shape[1]),\n",
    "           yticks=np.arange(cm.shape[0]),\n",
    "           # ... and label them with the respective list entries\n",
    "           xticklabels=classes, yticklabels=classes,\n",
    "           title=title,\n",
    "           ylabel='True label',\n",
    "           xlabel='Predicted label')\n",
    "\n",
    "    # Rotate the tick labels and set their alignment.\n",
    "    plt.setp(ax.get_xticklabels(), rotation=45, ha=\"right\",\n",
    "             rotation_mode=\"anchor\")\n",
    "\n",
    "    # Loop over data dimensions and create text annotations.\n",
    "    fmt = '.2f' if normalize else 'd'\n",
    "    thresh = cm.max() / 2.\n",
    "    for i in range(cm.shape[0]):\n",
    "        for j in range(cm.shape[1]):\n",
    "            ax.text(j, i, format(cm[i, j], fmt),\n",
    "                    ha=\"center\", va=\"center\",\n",
    "                    color=\"white\" if cm[i, j] > thresh else \"black\")\n",
    "    fig.tight_layout()\n",
    "    plt.show()\n",
    "#機器學習概論的助教提供的function"
   ]
  },
  {
   "cell_type": "code",
   "execution_count": 34,
   "metadata": {},
   "outputs": [
    {
     "name": "stdout",
     "output_type": "stream",
     "text": [
      "Confusion matrix, without normalization\n"
     ]
    },
    {
     "data": {
      "image/png": "[encoded data removed]",
      "text/plain": [
       "<Figure size 1440x720 with 2 Axes>"
      ]
     },
     "metadata": {
      "needs_background": "light"
     },
     "output_type": "display_data"
    },
    {
     "name": "stdout",
     "output_type": "stream",
     "text": [
      "8038/8038 [==============================] - 43s 5ms/step\n",
      "Accuracy: [0.23278720655023652, 0.9127892510426463]\n",
      "              precision    recall  f1-score   support\n",
      "\n",
      "   Gossiping       0.92      0.97      0.94      5924\n",
      "  Statistics       0.90      0.75      0.82      2114\n",
      "\n",
      "   micro avg       0.91      0.91      0.91      8038\n",
      "   macro avg       0.91      0.86      0.88      8038\n",
      "weighted avg       0.91      0.91      0.91      8038\n",
      "\n"
     ]
    }
   ],
   "source": [
    "X_train =X_train.reshape(len(X_train),300,1)\n",
    "X_test =X_test.reshape(len(X_test),300,1)\n",
    "\n",
    "from sklearn.metrics import confusion_matrix\n",
    "from sklearn.metrics import classification_report\n",
    "\n",
    "y_pred = model.predict_classes(X_test)\n",
    "\n",
    "cmrnn = confusion_matrix(y_test_raw, y_pred)\n",
    "classes = ['Gossiping', 'Statistics']\n",
    "\n",
    "plot_confusion_matrix(cmrnn,classes)\n",
    "print('Accuracy:', model.evaluate(X_test,y_test))\n",
    "print(classification_report(y_test_raw, y_pred, target_names=classes))"
   ]
  },
  {
   "cell_type": "markdown",
   "metadata": {},
   "source": [
    "# H.看看電腦的判斷吧！"
   ]
  },
  {
   "cell_type": "code",
   "execution_count": 35,
   "metadata": {},
   "outputs": [
    {
     "name": "stdout",
     "output_type": "stream",
     "text": [
      "文章內容： ['\\r\\n', '我', '不是', '本科', '系', '的', '，', '在', '某篇', 'paper', '上', '看到', '這個', '方法', '，', '但', '不', '知道', '是', '幹什麼', '用', '的', '\\r\\n', '\\r\\n', '不', '知道', '板上', '有沒有', '人能', '簡單', '的', '用', '幾句話', '幫', '我', '介紹', '一下', '這是', '什麼', '東西', '呢', '？', '\\r\\n', '\\r\\n', '比如說', '什麼', '情況', '下', '，', '用', '一般', '的', '什麼', '統計方法', '，', '會', '有', '什麼', '問題', '\\r\\n', '\\r\\n', '而', '這個', '方法', '是', '用來', '解決', '什麼', '問題', '，', '有時候', '會', '不會', '衍生', '出些', '什麼', '問題', '等等', '\\r\\n', '\\r\\n', '已經', '估過', '，', '但', '沒有', '這麼', '精闢', '的', '解釋', '，', '太', '艱深', '的', '我', '都', '看不懂', 'orz', '\\r\\n', '\\r\\n', '小弟', '在', '這裡', '先', '謝過', '了', '<', '(', '_', '_', ')', '>', '\\r\\n', '\\r\\n', '-', '-', '\\r\\n', '\\r\\n'] \n",
      "\n",
      "真實類別： Statistics\n",
      "預測類別： Statistics \n",
      "\n"
     ]
    }
   ],
   "source": [
    "rd = np.random.randint(8038)\n",
    "print(\"文章內容：\",mapped_int[rd],\"\\n\")\n",
    "print(\"真實類別：\",re1hot(y_test[rd]))\n",
    "\n",
    "if y_pred[rd] == 0:\n",
    "    y_pred_class = \"Gossiping\"\n",
    "else:\n",
    "    y_pred_class = \"Statistics\"\n",
    "print(\"預測類別：\",y_pred_class,\"\\n\")"
   ]
  },
  {
   "cell_type": "code",
   "execution_count": 36,
   "metadata": {},
   "outputs": [],
   "source": [
    "from ipywidgets import interact_manual#互動的套件"
   ]
  },
  {
   "cell_type": "code",
   "execution_count": 37,
   "metadata": {},
   "outputs": [],
   "source": [
    "predict = model.predict_classes(X_test)"
   ]
  },
  {
   "cell_type": "code",
   "execution_count": 38,
   "metadata": {},
   "outputs": [],
   "source": [
    "def test(idx):\n",
    "    print(\"文章內容：\",mapped_int[idx],\"\\n\")\n",
    "    print(\"神經網路判斷為：\",re1hot(y_test[idx]))\n",
    "    if predict[idx] == 0:\n",
    "        y_pred_class = \"Gossiping\"\n",
    "    else:\n",
    "        y_pred_class = \"Statistics\"\n",
    "    print(\"預測類別：\",y_pred_class,\"\\n\")"
   ]
  },
  {
   "cell_type": "code",
   "execution_count": 39,
   "metadata": {},
   "outputs": [
    {
     "data": {
      "application/vnd.jupyter.widget-view+json": {
       "model_id": "05f55ab9e16e4f3fbd7f58fd57882734",
       "version_major": 2,
       "version_minor": 0
      },
      "text/plain": [
       "interactive(children=(IntSlider(value=4018, description='idx', max=8037), Button(description='Run Interact', s…"
      ]
     },
     "metadata": {},
     "output_type": "display_data"
    },
    {
     "data": {
      "text/plain": [
       "<function __main__.test(idx)>"
      ]
     },
     "execution_count": 39,
     "metadata": {},
     "output_type": "execute_result"
    }
   ],
   "source": [
    "interact_manual(test,idx=(0,8037))"
   ]
  },
  {
   "cell_type": "code",
   "execution_count": null,
   "metadata": {},
   "outputs": [],
   "source": []
  }
 ],
 "metadata": {
  "kernelspec": {
   "display_name": "Python 3",
   "language": "python",
   "name": "python3"
  },
  "language_info": {
   "codemirror_mode": {
    "name": "ipython",
    "version": 3
   },
   "file_extension": ".py",
   "mimetype": "text/x-python",
   "name": "python",
   "nbconvert_exporter": "python",
   "pygments_lexer": "ipython3",
   "version": "3.7.3"
  }
 },
 "nbformat": 4,
 "nbformat_minor": 2
}
